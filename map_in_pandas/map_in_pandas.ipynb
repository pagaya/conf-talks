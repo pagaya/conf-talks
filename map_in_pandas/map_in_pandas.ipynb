{
 "cells": [
  {
   "cell_type": "markdown",
   "source": [
    "# pagaya-map_in_pandas\n",
    "\n",
    "Easy python wrapper for Spark mapInPandas, applyInPandas\n",
    "\n",
    "## Goal\n",
    "Easily run legacy pandas-based python functions at scale on large amounts of data.\n",
    "\n",
    "## applications\n",
    "* Running legacy transformations, feature extraction etc.\n",
    "* large scale model-evaluation\n",
    "* large scale experiments and parameter tuning.\n",
    "* A-B testing\n",
    "* Concurrent training (e.g. xgboost)"
   ],
   "metadata": {
    "collapsed": false,
    "pycharm": {
     "name": "#%% md\n"
    }
   }
  },
  {
   "cell_type": "code",
   "execution_count": null,
   "outputs": [],
   "source": [],
   "metadata": {
    "collapsed": false,
    "pycharm": {
     "name": "#%%\n"
    }
   }
  }
 ],
 "metadata": {
  "kernelspec": {
   "display_name": "Python 3",
   "language": "python",
   "name": "python3"
  },
  "language_info": {
   "codemirror_mode": {
    "name": "ipython",
    "version": 2
   },
   "file_extension": ".py",
   "mimetype": "text/x-python",
   "name": "python",
   "nbconvert_exporter": "python",
   "pygments_lexer": "ipython2",
   "version": "2.7.6"
  }
 },
 "nbformat": 4,
 "nbformat_minor": 0
}